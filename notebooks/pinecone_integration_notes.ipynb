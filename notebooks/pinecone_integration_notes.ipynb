{
 "cells": [
  {
   "cell_type": "markdown",
   "metadata": {},
   "source": [
    "# Pinecone Vector Database Integration"
   ]
  },
  {
   "cell_type": "markdown",
   "metadata": {},
   "source": [
    "**References:**\n",
    "\n",
    "    - [LanChain Pinecone](https://python.langchain.com/v0.2/docs/integrations/vectorstores/pinecone/)\n",
    "    - [PineconeVectorStore API](https://api.python.langchain.com/en/latest/vectorstores/langchain_pinecone.vectorstores.PineconeVectorStore.html)"
   ]
  },
  {
   "cell_type": "code",
   "execution_count": 2,
   "metadata": {},
   "outputs": [
    {
     "name": "stderr",
     "output_type": "stream",
     "text": [
      "/Users/tjosh/miniconda3/envs/druginsights/lib/python3.10/site-packages/pinecone/data/index.py:1: TqdmWarning: IProgress not found. Please update jupyter and ipywidgets. See https://ipywidgets.readthedocs.io/en/stable/user_install.html\n",
      "  from tqdm.autonotebook import tqdm\n"
     ]
    }
   ],
   "source": [
    "import os\n",
    "from dotenv import load_dotenv\n",
    "from pinecone import Pinecone, ServerlessSpec\n",
    "from langchain_community.document_loaders import TextLoader\n",
    "from langchain_openai import AzureOpenAIEmbeddings\n",
    "from langchain_text_splitters import RecursiveCharacterTextSplitter\n",
    "from langchain_pinecone import PineconeVectorStore\n",
    "\n"
   ]
  },
  {
   "cell_type": "code",
   "execution_count": 3,
   "metadata": {},
   "outputs": [
    {
     "data": {
      "text/plain": [
       "True"
      ]
     },
     "execution_count": 3,
     "metadata": {},
     "output_type": "execute_result"
    }
   ],
   "source": [
    "load_dotenv(\"../.env\")"
   ]
  },
  {
   "cell_type": "code",
   "execution_count": 7,
   "metadata": {},
   "outputs": [
    {
     "data": {
      "text/plain": [
       "[Document(page_content=\"name='ACE inhibitors' diseases_and_usecases='Used in the management of diabetic nephropathy, hypertension, and proteinuria in children with nephritis.' warnings='ACE inhibitors can cause a very rapid fall in blood pressure in volume-depleted children; treatment should therefore be initiated with very low doses. Adverse effects such as apnoea, seizures, renal failure, and severe unpredictable hypotension are very common in the first month of life and it is therefore recommended that ACE inhibitors are avoided whenever possible, particularly in preterm neonates.' indications='Indicated for the management of hypertension and proteinuria in children with nephritis and for the treatment of diabetic nephropathy.' contraindications='Contraindicated in children known to have severe bilateral renal artery stenosis or severe stenosis of the artery supplying a single functioning kidney. Also contraindicated in children with known or suspected renovascular disease, unless the blood pressure cannot be controlled by other\", metadata={'source': '../data/druginsights_prettify_test_2.txt'}),\n",
       " Document(page_content=\"drugs.' dosages_and_how_it_should_be_taken='Treatment should be initiated with very low doses. In some children, the diuretic dose may need to be reduced or the diuretic discontinued at least 24 hours beforehand. If high-dose diuretic therapy cannot be stopped, close observation is recommended after administration of the first dose of ACE inhibitor, for at least 2 hours or until the blood pressure has stabilised.' what_happens_if_i_miss_a_dose='Not specified in the provided text.' what_happens_if_i_overdose='Not specified in the provided text.' what_should_i_avoid_while_taking_the_medication='Potassium-sparing diuretics or potassium-containing salt substitutes should be avoided as they increase the risk of hyperkalaemia. NSAIDs should also be avoided as they increase the risk of renal damage.' side_effects='Side effects can include hyperkalaemia, dry cough, apnoea, seizures, renal failure, and severe unpredictable hypotension.' drugs_that_cause_interactions='NSAIDs and potassium-sparing diuretics or\", metadata={'source': '../data/druginsights_prettify_test_2.txt'}),\n",
       " Document(page_content=\"potassium-containing salt substitutes can interact with ACE inhibitors.'\", metadata={'source': '../data/druginsights_prettify_test_2.txt'}),\n",
       " Document(page_content=\"name='Prazosin' diseases_and_usecases='Hypertension, Congestive heart failure' warnings='Unlicensed use: Not licensed for use in children under 12 years. Pregnancy: No evidence of teratogenicity; manufacturers advise use only when potential benefit outweighs risk. Breastfeeding: Present in milk, amount probably too small to be harmful; manufacturer advises use with caution. Hepatic Impairment: Manufacturer advises caution (no information available). Renal Impairment: Start with low doses in moderate to severe impairment; increase with caution. Driving and skilled tasks: May affect performance of skilled tasks e.g. driving.' indications='Used for Hypertension and Congestive heart failure (rarely used)' contraindications='History of micturition syncope, history of postural hypotension, not recommended for congestive heart failure due to mechanical obstruction (e.g. aortic stenosis)' dosages_and_how_it_should_be_taken='Hypertension: Child 1 month–11 years: Initially 10–15 micrograms/kg 2–4 times a day, initial\", metadata={'source': '../data/druginsights_prettify_test_2.txt'}),\n",
       " Document(page_content=\"dose to be taken at bedtime, then increased to 500 micrograms/kg daily in divided doses, dose to be increased gradually; maximum 20 mg per day. Child 12–17 years: Initially 500 micrograms 2–3 times a day for 3-7 days, initial dose to be taken at bedtime, then increased to 1 mg 2–3 times a day for a further 3–7 days, then increased if necessary up to 20 mg daily in divided doses, dose should be increased gradually. Congestive heart failure: Child 1 month–11 years: 5 micrograms/kg twice daily, initial dose to be taken at bedtime, then increased to 100 micrograms/kg daily in divided doses, doses should be increased gradually. Child 12–17 years: 500 micrograms 2–4 times a day, initial dose to be taken at bedtime, then increased to 4 mg daily in divided doses; maintenance 4–20 mg daily in divided doses.' what_happens_if_i_miss_a_dose='Not mentioned in the text provided.' what_happens_if_i_overdose='Not mentioned in the text provided.' what_should_i_avoid_while_taking_the_medication='Driving and skilled tasks due\", metadata={'source': '../data/druginsights_prettify_test_2.txt'}),\n",
       " Document(page_content=\"to potential impairment.' side_effects='Common or very common: Asthenia, constipation, depression, diarrhoea, dizziness, drowsiness, dry mouth, dyspnoea, headache, nasal congestion, nausea, nervousness, oedema, palpitations, postural hypotension, sexual dysfunction, skin reactions, syncope, urinary disorders, vertigo, vision blurred, vomiting. Uncommon: Angina pectoris, arrhythmias, arthralgia, epistaxis, eye pain, eye redness, gastrointestinal discomfort, hyperhidrosis, paraesthesia, sleep disorders, tinnitus. Rare or very rare: Alopecia, fever, flushing, gynaecomastia, hallucination, hepatic function abnormal, pain, pancreatitis, vasculitis.' drugs_that_cause_interactions='Not mentioned in the text provided.'\", metadata={'source': '../data/druginsights_prettify_test_2.txt'}),\n",
       " Document(page_content=\"name='Clonidine hydrochloride' diseases_and_usecases='Severe hypertension, Tourette’s syndrome, ADHD and sleep-onset disorder' warnings='Use with caution in renal impairment. Avoid in pregnancy unless potential benefit outweighs risk. Avoid use in breastfeeding as it is present in milk. Must be withdrawn gradually to avoid hypertensive crisis.' indications='Used for severe hypertension. Can be given orally or by slow intravenous injection.' contraindications='Severe bradyarrhythmia secondary to second- or third-degree AV block or sick sinus syndrome' dosages_and_how_it_should_be_taken='For severe hypertension, by mouth, for children 2–17 years: Initially 0.5–1 microgram/kg 3 times a day, then increased if necessary up to 25 micrograms/kg daily in divided doses, increase dose gradually; maximum 1.2 mg per day. By slow intravenous injection, for children 2–17 years: 2–6 micrograms/kg (max. per dose 300 micrograms) for 1 dose. For administration by mouth, tablets may be crushed and dissolved in water. For\", metadata={'source': '../data/druginsights_prettify_test_2.txt'}),\n",
       " Document(page_content=\"intravenous injection, give over 10–15 minutes; compatible with Sodium Chloride 0.9% or Glucose 5%.' what_happens_if_i_miss_a_dose='Not mentioned' what_happens_if_i_overdose='Not mentioned' what_should_i_avoid_while_taking_the_medication='Driving and skilled tasks can be affected due to drowsiness. Effects of alcohol may be enhanced.' side_effects='Common or very common: Constipation, depression, dizziness, dry mouth, fatigue, headache, nausea, postural hypotension, salivary gland pain, sedation, sexual dysfunction, sleep disorders, vomiting. Uncommon: Delusions, hallucination, malaise, paraesthesia, Raynaud’s phenomenon, skin reactions. Rare or very rare: Alopecia, atrioventricular block, dry eye, gynaecomastia, intestinal pseudo-obstruction, nasal dryness. Frequency not known: Accommodation disorder, arrhythmias, confusion' drugs_that_cause_interactions='Not mentioned'\", metadata={'source': '../data/druginsights_prettify_test_2.txt'}),\n",
       " Document(page_content=\"name='Beta-Blockers' diseases_and_usecases='Beta-blockers are used in the treatment of hypertension, arrhythmias, and to control the pulse rate in children with phaeochromocytoma.' warnings='Dosage reduction is often necessary in renal impairment. Beta-blockers can precipitate asthma and should usually be avoided in children with a history of asthma or bronchospasm. They can affect carbohydrate metabolism causing hypoglycaemia or hyperglycaemia in children with or without diabetes. They can also interfere with metabolic and autonomic responses to hypoglycaemia thereby masking symptoms such as tachycardia.' indications='Beta-blockers are indicated for reducing blood pressure, controlling the pulse rate in children with phaeochromocytoma, and treating arrhythmias.' contraindications='Beta-blockers are contra-indicated in children with second- or third-degree heart block. They should be avoided in children with a history of asthma or bronchospasm, and in those with frequent episodes of hypoglycaemia.'\", metadata={'source': '../data/druginsights_prettify_test_2.txt'}),\n",
       " Document(page_content=\"dosages_and_how_it_should_be_taken='Some beta-blockers, such as atenolol, have an intrinsically longer duration of action and need to be given only once daily. Dosage reduction is often necessary in renal impairment. In general, the dose of beta-blocker does not have to be high. Labetalol hydrochloride may be given intravenously for hypertensive emergencies in children. Esmolol hydrochloride is also used intravenously for the treatment of hypertension, particularly in the peri-operative period.' what_happens_if_i_miss_a_dose='No specific instructions provided in the text.' what_happens_if_i_overdose='Care is needed to avoid dangerous hypotension or beta-blockade, particularly in neonates, when given intravenously for hypertensive emergencies.' what_should_i_avoid_while_taking_the_medication='No specific activities, foods, or other drugs to avoid while taking the medication are mentioned in the text.' side_effects='Side effects of beta-blockers can include fatigue, coldness of the extremities, sleep\", metadata={'source': '../data/druginsights_prettify_test_2.txt'}),\n",
       " Document(page_content=\"disturbances with nightmares (may be less common with the water-soluble beta-blockers), hypoglycaemia or hyperglycaemia, and asthma or bronchospasm.' drugs_that_cause_interactions='Beta-blockers should never be used alone in treating phaeochromocytoma as beta-blockade without concurrent alpha-blockade may lead to a hypertensive crisis. Phenoxybenzamine hydrochloride should always be used together with the beta-blocker.'\", metadata={'source': '../data/druginsights_prettify_test_2.txt'})]"
      ]
     },
     "execution_count": 7,
     "metadata": {},
     "output_type": "execute_result"
    }
   ],
   "source": [
    "# prepare modules for document extraction\n",
    "loader = TextLoader(\"../data/druginsights_prettify_test_2.txt\")\n",
    "documents = loader.load()\n",
    "\n",
    "text_splitter = RecursiveCharacterTextSplitter(chunk_size=1024, chunk_overlap=0)\n",
    "docs = text_splitter.split_documents(documents)\n",
    "\n",
    "embeddings = AzureOpenAIEmbeddings(\n",
    "    azure_deployment=os.environ[\"AZURE_OPENAI_EMBEDDING_DEPLOYMENT_NAME\"],\n",
    "    openai_api_version=os.environ[\"AZURE_OPENAI_API_VERSION\"],\n",
    ")\n",
    "\n",
    "docs"
   ]
  },
  {
   "cell_type": "code",
   "execution_count": 6,
   "metadata": {},
   "outputs": [
    {
     "data": {
      "text/plain": [
       "{'indexes': [{'dimension': 1536,\n",
       "              'host': 'axum-druginsights-fmmnhqp.svc.aped-4627-b74a.pinecone.io',\n",
       "              'metric': 'cosine',\n",
       "              'name': 'axum-druginsights',\n",
       "              'spec': {'serverless': {'cloud': 'aws', 'region': 'us-east-1'}},\n",
       "              'status': {'ready': True, 'state': 'Ready'}}]}"
      ]
     },
     "execution_count": 6,
     "metadata": {},
     "output_type": "execute_result"
    }
   ],
   "source": [
    "# Prepare pinecone\n",
    "\n",
    "PC = Pinecone(api_key=os.environ[\"PINECONE_API_KEY\"])\n",
    "PC_INDEX_NAME = os.environ[\"PINECONE_INDEX_NAME\"]\n",
    "PC.list_indexes()"
   ]
  },
  {
   "cell_type": "code",
   "execution_count": 8,
   "metadata": {},
   "outputs": [],
   "source": [
    "# run this only once, if the index is not created\n",
    "\n",
    "# PC.create_index(\n",
    "#             name=PC_INDEX_NAME,\n",
    "#             dimension=1536,\n",
    "#             metric=\"cosine\",\n",
    "#             spec=ServerlessSpec(cloud=\"aws\", region=\"us-east-1\"),\n",
    "#         )"
   ]
  },
  {
   "cell_type": "code",
   "execution_count": 10,
   "metadata": {},
   "outputs": [],
   "source": [
    "# Adding documents to the vector database. Be careful, this will overwrite the previous documents.\n",
    "# If you want to add more documents, you can use the .add_documents method instead.\n",
    "# run only once for the same documents\n",
    "# vectorstore = PineconeVectorStore.from_documents(docs, embeddings, index_name=PC_INDEX_NAME)\n",
    "\n",
    "# Or, load an existing vector store\n",
    "vectorstore = PineconeVectorStore(embedding=embeddings, index_name=PC_INDEX_NAME)\n"
   ]
  },
  {
   "cell_type": "code",
   "execution_count": 11,
   "metadata": {},
   "outputs": [
    {
     "name": "stdout",
     "output_type": "stream",
     "text": [
      "3\n",
      "name='ACE inhibitors' diseases_and_usecases='Used in the management of diabetic nephropathy, hypertension, and proteinuria in children with nephritis.' warnings='ACE inhibitors can cause a very rapid fall in blood pressure in volume-depleted children; treatment should therefore be initiated with very low doses. Adverse effects such as apnoea, seizures, renal failure, and severe unpredictable hypotension are very common in the first month of life and it is therefore recommended that ACE inhibitors are avoided whenever possible, particularly in preterm neonates.' indications='Indicated for the management of hypertension and proteinuria in children with nephritis and for the treatment of diabetic nephropathy.' contraindications='Contraindicated in children known to have severe bilateral renal artery stenosis or severe stenosis of the artery supplying a single functioning kidney. Also contraindicated in children with known or suspected renovascular disease, unless the blood pressure cannot be controlled by other\n"
     ]
    }
   ],
   "source": [
    "# let us test out the document search\n",
    "\n",
    "query = \"ACE inhibitors\"\n",
    "docs = vectorstore.similarity_search(query, k=3)\n",
    "print(len(docs))\n",
    "print(docs[0].page_content)"
   ]
  }
 ],
 "metadata": {
  "kernelspec": {
   "display_name": "druginsights",
   "language": "python",
   "name": "python3"
  },
  "language_info": {
   "codemirror_mode": {
    "name": "ipython",
    "version": 3
   },
   "file_extension": ".py",
   "mimetype": "text/x-python",
   "name": "python",
   "nbconvert_exporter": "python",
   "pygments_lexer": "ipython3",
   "version": "3.10.14"
  }
 },
 "nbformat": 4,
 "nbformat_minor": 2
}
