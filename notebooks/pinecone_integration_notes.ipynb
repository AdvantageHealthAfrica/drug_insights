{
 "cells": [
  {
   "cell_type": "markdown",
   "metadata": {},
   "source": [
    "# Pinecone Vector Database Integration"
   ]
  },
  {
   "cell_type": "markdown",
   "metadata": {},
   "source": [
    "**References:**\n",
    "\n",
    "    - [LanChain Pinecone](https://python.langchain.com/v0.2/docs/integrations/vectorstores/pinecone/)\n",
    "    - [PineconeVectorStore API](https://api.python.langchain.com/en/latest/vectorstores/langchain_pinecone.vectorstores.PineconeVectorStore.html)"
   ]
  },
  {
   "cell_type": "code",
   "execution_count": 6,
   "metadata": {},
   "outputs": [],
   "source": [
    "import os\n",
    "from dotenv import load_dotenv\n",
    "from pinecone import Pinecone, ServerlessSpec\n",
    "from loaders.text_loaders import TextLoaderWithMetadata\n",
    "from langchain_openai import AzureOpenAIEmbeddings\n",
    "from langchain_text_splitters import RecursiveCharacterTextSplitter\n",
    "from langchain_pinecone import PineconeVectorStore\n",
    "\n"
   ]
  },
  {
   "cell_type": "code",
   "execution_count": 2,
   "metadata": {},
   "outputs": [
    {
     "data": {
      "text/plain": [
       "True"
      ]
     },
     "execution_count": 2,
     "metadata": {},
     "output_type": "execute_result"
    }
   ],
   "source": [
    "load_dotenv(\"../.env\")"
   ]
  },
  {
   "cell_type": "code",
   "execution_count": 13,
   "metadata": {},
   "outputs": [
    {
     "data": {
      "text/plain": [
       "3693"
      ]
     },
     "execution_count": 13,
     "metadata": {},
     "output_type": "execute_result"
    }
   ],
   "source": [
    "# prepare modules for document extraction\n",
    "loader = TextLoaderWithMetadata(\n",
    "    \"/Users/tjosh/codes/axum/druginsights/data/BNFPaeds_prettified.txt\"\n",
    ")\n",
    "documents = loader.load(\n",
    "    metadata={\n",
    "        \"title\": \"British National Formulary for Children\",\n",
    "        \"link\": \"https://www.nice.org.uk/bnfc-uk-only\",\n",
    "        \"references\": [\n",
    "            \"NICE. (n.d.). BNFc is only available in the UK. https://www.nice.org.uk/bnfc-uk-only\"\n",
    "        ],\n",
    "    },\n",
    ")\n",
    "\n",
    "text_splitter = RecursiveCharacterTextSplitter(\n",
    "    chunk_size=1024, chunk_overlap=0\n",
    ")\n",
    "docs = text_splitter.split_documents(documents)\n",
    "\n",
    "embeddings = AzureOpenAIEmbeddings(\n",
    "    azure_deployment=os.environ[\"AZURE_OPENAI_EMBEDDING_DEPLOYMENT_NAME\"],\n",
    "    openai_api_version=os.environ[\"AZURE_OPENAI_API_VERSION\"],\n",
    ")\n",
    "\n",
    "len(docs)"
   ]
  },
  {
   "cell_type": "code",
   "execution_count": 14,
   "metadata": {},
   "outputs": [
    {
     "data": {
      "text/plain": [
       "Document(page_content=\"name='Amoxicillin' diseases_and_usecases='Bacterial infections such as pneumonia, bronchitis, and infections of the ear, nose, throat, skin, and urinary tract.' warnings='Do not use if allergic to penicillin. Use with caution in patients with a history of liver or kidney disease. Long-term use may result in a secondary infection.' indications='Treatment of bacterial infections. Effective against susceptible strains of Streptococcus, Staphylococcus, and Haemophilus species.' contraindications='Hypersensitivity to amoxicillin, penicillin, or any component of the formulation. History of a severe allergic reaction (e.g., anaphylaxis) to another beta-lactam antibiotic (e.g., cephalosporin, carbapenem).' dosages_and_how_it_should_be_taken='Adults: 250-500 mg every 8 hours or 500-875 mg every 12 hours. Children: 20-40 mg/kg/day in divided doses every 8 hours or 25-45 mg/kg/day in divided doses every 12 hours. The exact dosage depends on the type and severity of the infection.' what_happens_if_i_miss_a_dose='Take\", metadata={'title': 'British National Formulary for Children', 'link': 'https://www.nice.org.uk/bnfc-uk-only', 'references': ['NICE. (n.d.). BNFc is only available in the UK. https://www.nice.org.uk/bnfc-uk-only']})"
      ]
     },
     "execution_count": 14,
     "metadata": {},
     "output_type": "execute_result"
    }
   ],
   "source": [
    "docs[0]"
   ]
  },
  {
   "cell_type": "code",
   "execution_count": 3,
   "metadata": {},
   "outputs": [
    {
     "data": {
      "text/plain": [
       "{'indexes': [{'dimension': 1536,\n",
       "              'host': 'axum-druginsights-80ua1d8.svc.eastus2-5e25.prod-azure.pinecone.io',\n",
       "              'metric': 'cosine',\n",
       "              'name': 'axum-druginsights',\n",
       "              'spec': {'serverless': {'cloud': 'azure', 'region': 'eastus2'}},\n",
       "              'status': {'ready': True, 'state': 'Ready'}}]}"
      ]
     },
     "execution_count": 3,
     "metadata": {},
     "output_type": "execute_result"
    }
   ],
   "source": [
    "# Prepare pinecone\n",
    "\n",
    "PC = Pinecone(api_key=os.environ[\"PINECONE_API_KEY\"])\n",
    "PC_INDEX_NAME = os.environ[\"PINECONE_INDEX_NAME\"]\n",
    "PC.list_indexes()"
   ]
  },
  {
   "cell_type": "code",
   "execution_count": 8,
   "metadata": {},
   "outputs": [],
   "source": [
    "# run this only once, if the index is not created\n",
    "\n",
    "# PC.create_index(\n",
    "#             name=PC_INDEX_NAME,\n",
    "#             dimension=1536,\n",
    "#             metric=\"cosine\",\n",
    "#             spec=ServerlessSpec(cloud=\"aws\", region=\"us-east-1\"),\n",
    "#         )"
   ]
  },
  {
   "cell_type": "code",
   "execution_count": 15,
   "metadata": {},
   "outputs": [],
   "source": [
    "# Adding documents to the vector database. Be careful, this will overwrite the previous documents.\n",
    "# If you want to add more documents, you can use the .add_documents method instead.\n",
    "# run only once for the same documents\n",
    "vectorstore = PineconeVectorStore.from_documents(docs, embeddings, index_name=PC_INDEX_NAME)\n",
    "\n",
    "# Or, load an existing vector store\n",
    "# vectorstore = PineconeVectorStore(embedding=embeddings, index_name=PC_INDEX_NAME)\n"
   ]
  },
  {
   "cell_type": "code",
   "execution_count": 11,
   "metadata": {},
   "outputs": [
    {
     "name": "stdout",
     "output_type": "stream",
     "text": [
      "3\n",
      "name='ACE inhibitors' diseases_and_usecases='Used in the management of diabetic nephropathy, hypertension, and proteinuria in children with nephritis.' warnings='ACE inhibitors can cause a very rapid fall in blood pressure in volume-depleted children; treatment should therefore be initiated with very low doses. Adverse effects such as apnoea, seizures, renal failure, and severe unpredictable hypotension are very common in the first month of life and it is therefore recommended that ACE inhibitors are avoided whenever possible, particularly in preterm neonates.' indications='Indicated for the management of hypertension and proteinuria in children with nephritis and for the treatment of diabetic nephropathy.' contraindications='Contraindicated in children known to have severe bilateral renal artery stenosis or severe stenosis of the artery supplying a single functioning kidney. Also contraindicated in children with known or suspected renovascular disease, unless the blood pressure cannot be controlled by other\n"
     ]
    }
   ],
   "source": [
    "# let us test out the document search\n",
    "\n",
    "query = \"ACE inhibitors\"\n",
    "docs = vectorstore.similarity_search(query, k=3)\n",
    "print(len(docs))\n",
    "print(docs[0].page_content)"
   ]
  },
  {
   "cell_type": "code",
   "execution_count": 1,
   "metadata": {},
   "outputs": [],
   "source": [
    "import json\n",
    "import os\n",
    "\n",
    "os.chdir(\"../\")\n"
   ]
  },
  {
   "cell_type": "code",
   "execution_count": 3,
   "metadata": {},
   "outputs": [],
   "source": [
    "from src.agents.prompts.qa_prompts_2 import CONTEXTUALIZE_Q_SYSTEM_PROMPT, QA_SYSTEM_PROMPT"
   ]
  },
  {
   "cell_type": "code",
   "execution_count": 4,
   "metadata": {},
   "outputs": [],
   "source": [
    "with open(\"config.json\", \"r\") as f:\n",
    "    config = json.load(f)\n",
    "\n",
    "config[\"contextualize_q_system_prompt\"] = CONTEXTUALIZE_Q_SYSTEM_PROMPT\n",
    "config[\"qa_system_prompt\"] = QA_SYSTEM_PROMPT\n",
    "\n",
    "with open(\"config.json\", \"w\") as f:\n",
    "    json.dump(config, f)\n"
   ]
  },
  {
   "cell_type": "code",
   "execution_count": null,
   "metadata": {},
   "outputs": [],
   "source": []
  }
 ],
 "metadata": {
  "kernelspec": {
   "display_name": "druginsights",
   "language": "python",
   "name": "python3"
  },
  "language_info": {
   "codemirror_mode": {
    "name": "ipython",
    "version": 3
   },
   "file_extension": ".py",
   "mimetype": "text/x-python",
   "name": "python",
   "nbconvert_exporter": "python",
   "pygments_lexer": "ipython3",
   "version": "3.10.14"
  }
 },
 "nbformat": 4,
 "nbformat_minor": 2
}
